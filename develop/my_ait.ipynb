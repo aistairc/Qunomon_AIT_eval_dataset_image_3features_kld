{
 "cells": [
  {
   "cell_type": "markdown",
   "metadata": {
    "deletable": false,
    "editable": false
   },
   "source": [
    "# AIT Development notebook"
   ]
  },
  {
   "cell_type": "markdown",
   "metadata": {
    "deletable": false,
    "editable": false
   },
   "source": [
    "## notebook of structure"
   ]
  },
  {
   "cell_type": "markdown",
   "metadata": {
    "deletable": false,
    "editable": false
   },
   "source": [
    "| #  | Name                                               | cells | for_dev | edit               | description                                                                |\n",
    "|----|----------------------------------------------------|-------|---------|--------------------|----------------------------------------------------------------------------|\n",
    "| 1  | [Environment detection](##1-Environment-detection) | 1     | No      | uneditable         | detect whether the notebook are invoked for packaging or in production     |\n",
    "| 2  | [Preparing AIT SDK](##2-Preparing-AIT-SDK)         | 1     | Yes     | uneditable         | download and install AIT SDK                                               |\n",
    "| 3  | [Dependency Management](##3-Dependency-Management) | 3     | Yes     | required(cell #2)  | generate requirements.txt for Docker container                             |\n",
    "| 4  | [Importing Libraries](##4-Importing-Libraries)     | 2     | Yes     | required(cell #1)  | import required libraries                                                  |\n",
    "| 5  | [Manifest Generation](##5-Manifest-Generation)     | 1     | Yes     | required           | generate AIT Manifest                                                      |\n",
    "| 6  | [Prepare for the Input](##6-Prepare-for-the-Input) | 1     | Yes     | required           | generate AIT Input JSON (inventory mapper)                                 |\n",
    "| 7  | [Initialization](##7-Initialization)               | 1     | No      | uneditable         | initialization for AIT execution                                           |\n",
    "| 8  | [Function definitions](##8-Function-definitions)   | N     | No      | required           | define functions invoked from Main area.<br> also define output functions. |\n",
    "| 9  | [Main Algorithms](##9-Main-Algorithms)             | 1     | No      | required           | area for main algorithms of an AIT                                         |\n",
    "| 10 | [Entry point](##10-Entry-point)                    | 1     | No      | uneditable         | an entry point where Qunomon invoke this AIT from here                     |\n",
    "| 11 | [License](##11-License)                            | 1     | Yes     | required           | generate license information                                               |\n",
    "| 12 | [Deployment](##12-Deployment)                      | 1     | Yes     | uneditable         | convert this notebook to the python file for packaging purpose             |"
   ]
  },
  {
   "cell_type": "markdown",
   "metadata": {
    "deletable": false,
    "editable": false
   },
   "source": [
    "## notebook template revision history"
   ]
  },
  {
   "cell_type": "markdown",
   "metadata": {
    "deletable": false,
    "editable": false
   },
   "source": [
    "1.0.1 2020/10/21\n",
    "\n",
    "* add revision history\n",
    "* separate `create requirements and pip install` editable and noeditable\n",
    "* separate `import` editable and noeditable\n",
    "\n",
    "1.0.0 2020/10/12\n",
    "\n",
    "* new cerarion"
   ]
  },
  {
   "cell_type": "markdown",
   "metadata": {
    "deletable": false,
    "editable": false
   },
   "source": [
    "## body"
   ]
  },
  {
   "cell_type": "markdown",
   "metadata": {
    "deletable": false,
    "editable": false
   },
   "source": [
    "### #1 Environment detection"
   ]
  },
  {
   "cell_type": "markdown",
   "metadata": {
    "deletable": false,
    "editable": false
   },
   "source": [
    "[uneditable]"
   ]
  },
  {
   "cell_type": "code",
   "execution_count": 1,
   "metadata": {
    "deletable": false,
    "editable": false
   },
   "outputs": [],
   "source": [
    "# Determine whether to start AIT or jupyter by startup argument\n",
    "import sys\n",
    "is_ait_launch = (len(sys.argv) == 2)"
   ]
  },
  {
   "cell_type": "markdown",
   "metadata": {
    "deletable": false,
    "editable": false
   },
   "source": [
    "### #2 Preparing AIT SDK"
   ]
  },
  {
   "cell_type": "markdown",
   "metadata": {
    "deletable": false,
    "editable": false
   },
   "source": [
    "[uneditable]"
   ]
  },
  {
   "cell_type": "code",
   "execution_count": 2,
   "metadata": {
    "deletable": false,
    "editable": false
   },
   "outputs": [
    {
     "name": "stdout",
     "output_type": "stream",
     "text": [
      "\u001b[33mWARNING: Running pip as the 'root' user can result in broken permissions and conflicting behaviour with the system package manager. It is recommended to use a virtual environment instead: https://pip.pypa.io/warnings/venv\u001b[0m\u001b[33m\n",
      "\u001b[0m\u001b[33mWARNING: Running pip as the 'root' user can result in broken permissions and conflicting behaviour with the system package manager. It is recommended to use a virtual environment instead: https://pip.pypa.io/warnings/venv\u001b[0m\u001b[33m\n",
      "\u001b[0m"
     ]
    }
   ],
   "source": [
    "if not is_ait_launch:\n",
    "    # get ait-sdk file name\n",
    "    from pathlib import Path\n",
    "    from glob import glob\n",
    "    import re\n",
    "    import os\n",
    "\n",
    "    current_dir = %pwd\n",
    "\n",
    "    ait_sdk_path = \"./ait_sdk-*-py3-none-any.whl\"\n",
    "    ait_sdk_list = glob(ait_sdk_path)\n",
    "    ait_sdk_name = os.path.basename(ait_sdk_list[-1])\n",
    "\n",
    "    # install ait-sdk\n",
    "    !pip install -q --upgrade pip\n",
    "    !pip install -q --no-deps --force-reinstall ./$ait_sdk_name"
   ]
  },
  {
   "cell_type": "markdown",
   "metadata": {
    "deletable": false,
    "editable": false
   },
   "source": [
    "### #3 Dependency Management"
   ]
  },
  {
   "cell_type": "markdown",
   "metadata": {
    "deletable": false,
    "editable": false
   },
   "source": [
    "#### #3-1 [uneditable]"
   ]
  },
  {
   "cell_type": "code",
   "execution_count": 3,
   "metadata": {
    "deletable": false,
    "editable": false
   },
   "outputs": [],
   "source": [
    "if not is_ait_launch:\n",
    "    from ait_sdk.common.files.ait_requirements_generator import AITRequirementsGenerator\n",
    "    requirements_generator = AITRequirementsGenerator()"
   ]
  },
  {
   "cell_type": "markdown",
   "metadata": {
    "deletable": false,
    "editable": false
   },
   "source": [
    "#### #3-2 [required]"
   ]
  },
  {
   "cell_type": "code",
   "execution_count": 4,
   "metadata": {},
   "outputs": [],
   "source": [
    "if not is_ait_launch:\n",
    "    requirements_generator.add_package('pandas', '2.0.3')\n",
    "    requirements_generator.add_package('seaborn', '0.13.2')\n",
    "    requirements_generator.add_package('opencv-python', '4.9.0.80')\n",
    "    requirements_generator.add_package('numpy', '1.22.0')\n",
    "    requirements_generator.add_package('matplotlib', '3.7.3')\n",
    "    requirements_generator.add_package('scikit-learn', '1.3.2')\n",
    "    requirements_generator.add_package('scipy', '1.10.1')"
   ]
  },
  {
   "cell_type": "markdown",
   "metadata": {
    "deletable": false,
    "editable": false
   },
   "source": [
    "#### #3-3 [uneditable]"
   ]
  },
  {
   "cell_type": "code",
   "execution_count": 5,
   "metadata": {
    "deletable": false,
    "editable": false
   },
   "outputs": [
    {
     "name": "stdout",
     "output_type": "stream",
     "text": [
      "\u001b[31mERROR: pip's dependency resolver does not currently take into account all the packages that are installed. This behaviour is the source of the following dependency conflicts.\n",
      "jupyter-server 2.12.5 requires nbformat>=5.3.0, but you have nbformat 5.2.0 which is incompatible.\u001b[0m\u001b[31m\n",
      "\u001b[0m\u001b[33mWARNING: Running pip as the 'root' user can result in broken permissions and conflicting behaviour with the system package manager. It is recommended to use a virtual environment instead: https://pip.pypa.io/warnings/venv\u001b[0m\u001b[33m\n",
      "\u001b[0m"
     ]
    }
   ],
   "source": [
    "if not is_ait_launch:\n",
    "    requirements_generator.add_package(f'./{ait_sdk_name}')\n",
    "    requirements_path = requirements_generator.create_requirements(current_dir)\n",
    "\n",
    "    !pip install -q -r $requirements_path "
   ]
  },
  {
   "cell_type": "markdown",
   "metadata": {
    "deletable": false,
    "editable": false
   },
   "source": [
    "### #4 Importing Libraries"
   ]
  },
  {
   "cell_type": "markdown",
   "metadata": {
    "deletable": false,
    "editable": false
   },
   "source": [
    "#### #4-1 [required]"
   ]
  },
  {
   "cell_type": "code",
   "execution_count": 6,
   "metadata": {},
   "outputs": [
    {
     "name": "stdout",
     "output_type": "stream",
     "text": [
      "Hit:1 http://archive.ubuntu.com/ubuntu focal InRelease                     \n",
      "Hit:2 http://security.ubuntu.com/ubuntu focal-security InRelease           \n",
      "Get:3 http://archive.ubuntu.com/ubuntu focal-updates InRelease [114 kB]\n",
      "Hit:4 http://archive.ubuntu.com/ubuntu focal-backports InRelease\n",
      "Fetched 114 kB in 2s (56.0 kB/s)\n",
      "Reading package lists... Done\n",
      "debconf: delaying package configuration, since apt-utils is not installed\n",
      "Selecting previously unselected package libelf1:amd64.\n",
      "(Reading database ... 18180 files and directories currently installed.)\n",
      "Preparing to unpack .../00-libelf1_0.176-1.1ubuntu0.1_amd64.deb ...\n",
      "Unpacking libelf1:amd64 (0.176-1.1ubuntu0.1) ...\n",
      "Selecting previously unselected package libglib2.0-0:amd64.\n",
      "Preparing to unpack .../01-libglib2.0-0_2.64.6-1~ubuntu20.04.6_amd64.deb ...\n",
      "Unpacking libglib2.0-0:amd64 (2.64.6-1~ubuntu20.04.6) ...\n",
      "Selecting previously unselected package libglib2.0-data.\n",
      "Preparing to unpack .../02-libglib2.0-data_2.64.6-1~ubuntu20.04.6_all.deb ...\n",
      "Unpacking libglib2.0-data (2.64.6-1~ubuntu20.04.6) ...\n",
      "Selecting previously unselected package tzdata.\n",
      "Preparing to unpack .../03-tzdata_2023d-0ubuntu0.20.04_all.deb ...\n",
      "Unpacking tzdata (2023d-0ubuntu0.20.04) ...\n",
      "Selecting previously unselected package libicu66:amd64.\n",
      "Preparing to unpack .../04-libicu66_66.1-2ubuntu2.1_amd64.deb ...\n",
      "Unpacking libicu66:amd64 (66.1-2ubuntu2.1) ...\n",
      "Selecting previously unselected package libxml2:amd64.\n",
      "Preparing to unpack .../05-libxml2_2.9.10+dfsg-5ubuntu0.20.04.6_amd64.deb ...\n",
      "Unpacking libxml2:amd64 (2.9.10+dfsg-5ubuntu0.20.04.6) ...\n",
      "Selecting previously unselected package shared-mime-info.\n",
      "Preparing to unpack .../06-shared-mime-info_1.15-1_amd64.deb ...\n",
      "Unpacking shared-mime-info (1.15-1) ...\n",
      "Selecting previously unselected package xdg-user-dirs.\n",
      "Preparing to unpack .../07-xdg-user-dirs_0.17-2ubuntu1_amd64.deb ...\n",
      "Unpacking xdg-user-dirs (0.17-2ubuntu1) ...\n",
      "Selecting previously unselected package libdrm-common.\n",
      "Preparing to unpack .../08-libdrm-common_2.4.107-8ubuntu1~20.04.2_all.deb ...\n",
      "Unpacking libdrm-common (2.4.107-8ubuntu1~20.04.2) ...\n",
      "Selecting previously unselected package libdrm2:amd64.\n",
      "Preparing to unpack .../09-libdrm2_2.4.107-8ubuntu1~20.04.2_amd64.deb ...\n",
      "Unpacking libdrm2:amd64 (2.4.107-8ubuntu1~20.04.2) ...\n",
      "Selecting previously unselected package libdrm-amdgpu1:amd64.\n",
      "Preparing to unpack .../10-libdrm-amdgpu1_2.4.107-8ubuntu1~20.04.2_amd64.deb ...\n",
      "Unpacking libdrm-amdgpu1:amd64 (2.4.107-8ubuntu1~20.04.2) ...\n",
      "Selecting previously unselected package libpciaccess0:amd64.\n",
      "Preparing to unpack .../11-libpciaccess0_0.16-0ubuntu1_amd64.deb ...\n",
      "Unpacking libpciaccess0:amd64 (0.16-0ubuntu1) ...\n",
      "Selecting previously unselected package libdrm-intel1:amd64.\n",
      "Preparing to unpack .../12-libdrm-intel1_2.4.107-8ubuntu1~20.04.2_amd64.deb ...\n",
      "Unpacking libdrm-intel1:amd64 (2.4.107-8ubuntu1~20.04.2) ...\n",
      "Selecting previously unselected package libdrm-nouveau2:amd64.\n",
      "Preparing to unpack .../13-libdrm-nouveau2_2.4.107-8ubuntu1~20.04.2_amd64.deb ...\n",
      "Unpacking libdrm-nouveau2:amd64 (2.4.107-8ubuntu1~20.04.2) ...\n",
      "Selecting previously unselected package libdrm-radeon1:amd64.\n",
      "Preparing to unpack .../14-libdrm-radeon1_2.4.107-8ubuntu1~20.04.2_amd64.deb ...\n",
      "Unpacking libdrm-radeon1:amd64 (2.4.107-8ubuntu1~20.04.2) ...\n",
      "Selecting previously unselected package libglvnd0:amd64.\n",
      "Preparing to unpack .../15-libglvnd0_1.3.2-1~ubuntu0.20.04.2_amd64.deb ...\n",
      "Unpacking libglvnd0:amd64 (1.3.2-1~ubuntu0.20.04.2) ...\n",
      "Selecting previously unselected package libwayland-server0:amd64.\n",
      "Preparing to unpack .../16-libwayland-server0_1.18.0-1ubuntu0.1_amd64.deb ...\n",
      "Unpacking libwayland-server0:amd64 (1.18.0-1ubuntu0.1) ...\n",
      "Selecting previously unselected package libgbm1:amd64.\n",
      "Preparing to unpack .../17-libgbm1_21.2.6-0ubuntu0.1~20.04.2_amd64.deb ...\n",
      "Unpacking libgbm1:amd64 (21.2.6-0ubuntu0.1~20.04.2) ...\n",
      "Selecting previously unselected package libglapi-mesa:amd64.\n",
      "Preparing to unpack .../18-libglapi-mesa_21.2.6-0ubuntu0.1~20.04.2_amd64.deb ...\n",
      "Unpacking libglapi-mesa:amd64 (21.2.6-0ubuntu0.1~20.04.2) ...\n",
      "Selecting previously unselected package libwayland-client0:amd64.\n",
      "Preparing to unpack .../19-libwayland-client0_1.18.0-1ubuntu0.1_amd64.deb ...\n",
      "Unpacking libwayland-client0:amd64 (1.18.0-1ubuntu0.1) ...\n",
      "Selecting previously unselected package libx11-xcb1:amd64.\n",
      "Preparing to unpack .../20-libx11-xcb1_2%3a1.6.9-2ubuntu1.6_amd64.deb ...\n",
      "Unpacking libx11-xcb1:amd64 (2:1.6.9-2ubuntu1.6) ...\n",
      "Selecting previously unselected package libxcb-dri2-0:amd64.\n",
      "Preparing to unpack .../21-libxcb-dri2-0_1.14-2_amd64.deb ...\n",
      "Unpacking libxcb-dri2-0:amd64 (1.14-2) ...\n",
      "Selecting previously unselected package libxcb-dri3-0:amd64.\n",
      "Preparing to unpack .../22-libxcb-dri3-0_1.14-2_amd64.deb ...\n",
      "Unpacking libxcb-dri3-0:amd64 (1.14-2) ...\n",
      "Selecting previously unselected package libxcb-present0:amd64.\n",
      "Preparing to unpack .../23-libxcb-present0_1.14-2_amd64.deb ...\n",
      "Unpacking libxcb-present0:amd64 (1.14-2) ...\n",
      "Selecting previously unselected package libxcb-sync1:amd64.\n",
      "Preparing to unpack .../24-libxcb-sync1_1.14-2_amd64.deb ...\n",
      "Unpacking libxcb-sync1:amd64 (1.14-2) ...\n",
      "Selecting previously unselected package libxcb-xfixes0:amd64.\n",
      "Preparing to unpack .../25-libxcb-xfixes0_1.14-2_amd64.deb ...\n",
      "Unpacking libxcb-xfixes0:amd64 (1.14-2) ...\n",
      "Selecting previously unselected package libxshmfence1:amd64.\n",
      "Preparing to unpack .../26-libxshmfence1_1.3-1_amd64.deb ...\n",
      "Unpacking libxshmfence1:amd64 (1.3-1) ...\n",
      "Selecting previously unselected package libegl-mesa0:amd64.\n",
      "Preparing to unpack .../27-libegl-mesa0_21.2.6-0ubuntu0.1~20.04.2_amd64.deb ...\n",
      "Unpacking libegl-mesa0:amd64 (21.2.6-0ubuntu0.1~20.04.2) ...\n",
      "Selecting previously unselected package libegl1:amd64.\n",
      "Preparing to unpack .../28-libegl1_1.3.2-1~ubuntu0.20.04.2_amd64.deb ...\n",
      "Unpacking libegl1:amd64 (1.3.2-1~ubuntu0.20.04.2) ...\n",
      "Selecting previously unselected package libxcb-glx0:amd64.\n",
      "Preparing to unpack .../29-libxcb-glx0_1.14-2_amd64.deb ...\n",
      "Unpacking libxcb-glx0:amd64 (1.14-2) ...\n",
      "Selecting previously unselected package libxcb-shm0:amd64.\n",
      "Preparing to unpack .../30-libxcb-shm0_1.14-2_amd64.deb ...\n",
      "Unpacking libxcb-shm0:amd64 (1.14-2) ...\n",
      "Selecting previously unselected package libxfixes3:amd64.\n",
      "Preparing to unpack .../31-libxfixes3_1%3a5.0.3-2_amd64.deb ...\n",
      "Unpacking libxfixes3:amd64 (1:5.0.3-2) ...\n",
      "Selecting previously unselected package libxxf86vm1:amd64.\n",
      "Preparing to unpack .../32-libxxf86vm1_1%3a1.1.4-1build1_amd64.deb ...\n",
      "Unpacking libxxf86vm1:amd64 (1:1.1.4-1build1) ...\n",
      "Selecting previously unselected package libllvm12:amd64.\n",
      "Preparing to unpack .../33-libllvm12_1%3a12.0.0-3ubuntu1~20.04.5_amd64.deb ...\n",
      "Unpacking libllvm12:amd64 (1:12.0.0-3ubuntu1~20.04.5) ...\n",
      "Selecting previously unselected package libsensors-config.\n",
      "Preparing to unpack .../34-libsensors-config_1%3a3.6.0-2ubuntu1.1_all.deb ...\n",
      "Unpacking libsensors-config (1:3.6.0-2ubuntu1.1) ...\n",
      "Selecting previously unselected package libsensors5:amd64.\n",
      "Preparing to unpack .../35-libsensors5_1%3a3.6.0-2ubuntu1.1_amd64.deb ...\n",
      "Unpacking libsensors5:amd64 (1:3.6.0-2ubuntu1.1) ...\n",
      "Selecting previously unselected package libvulkan1:amd64.\n",
      "Preparing to unpack .../36-libvulkan1_1.2.131.2-1_amd64.deb ...\n",
      "Unpacking libvulkan1:amd64 (1.2.131.2-1) ...\n",
      "Selecting previously unselected package libgl1-mesa-dri:amd64.\n",
      "Preparing to unpack .../37-libgl1-mesa-dri_21.2.6-0ubuntu0.1~20.04.2_amd64.deb ...\n",
      "Unpacking libgl1-mesa-dri:amd64 (21.2.6-0ubuntu0.1~20.04.2) ...\n",
      "Selecting previously unselected package libglx-mesa0:amd64.\n",
      "Preparing to unpack .../38-libglx-mesa0_21.2.6-0ubuntu0.1~20.04.2_amd64.deb ...\n",
      "Unpacking libglx-mesa0:amd64 (21.2.6-0ubuntu0.1~20.04.2) ...\n",
      "Selecting previously unselected package libglx0:amd64.\n",
      "Preparing to unpack .../39-libglx0_1.3.2-1~ubuntu0.20.04.2_amd64.deb ...\n",
      "Unpacking libglx0:amd64 (1.3.2-1~ubuntu0.20.04.2) ...\n",
      "Selecting previously unselected package libgl1:amd64.\n",
      "Preparing to unpack .../40-libgl1_1.3.2-1~ubuntu0.20.04.2_amd64.deb ...\n",
      "Unpacking libgl1:amd64 (1.3.2-1~ubuntu0.20.04.2) ...\n",
      "Selecting previously unselected package xorg-sgml-doctools.\n",
      "Preparing to unpack .../41-xorg-sgml-doctools_1%3a1.11-1_all.deb ...\n",
      "Unpacking xorg-sgml-doctools (1:1.11-1) ...\n",
      "Selecting previously unselected package x11proto-dev.\n",
      "Preparing to unpack .../42-x11proto-dev_2019.2-1ubuntu1_all.deb ...\n",
      "Unpacking x11proto-dev (2019.2-1ubuntu1) ...\n",
      "Selecting previously unselected package x11proto-core-dev.\n",
      "Preparing to unpack .../43-x11proto-core-dev_2019.2-1ubuntu1_all.deb ...\n",
      "Unpacking x11proto-core-dev (2019.2-1ubuntu1) ...\n",
      "Selecting previously unselected package libxau-dev:amd64.\n",
      "Preparing to unpack .../44-libxau-dev_1%3a1.0.9-0ubuntu1_amd64.deb ...\n",
      "Unpacking libxau-dev:amd64 (1:1.0.9-0ubuntu1) ...\n",
      "Selecting previously unselected package libxdmcp-dev:amd64.\n",
      "Preparing to unpack .../45-libxdmcp-dev_1%3a1.1.3-0ubuntu1_amd64.deb ...\n",
      "Unpacking libxdmcp-dev:amd64 (1:1.1.3-0ubuntu1) ...\n",
      "Selecting previously unselected package xtrans-dev.\n",
      "Preparing to unpack .../46-xtrans-dev_1.4.0-1_all.deb ...\n",
      "Unpacking xtrans-dev (1.4.0-1) ...\n",
      "Selecting previously unselected package libpthread-stubs0-dev:amd64.\n",
      "Preparing to unpack .../47-libpthread-stubs0-dev_0.4-1_amd64.deb ...\n",
      "Unpacking libpthread-stubs0-dev:amd64 (0.4-1) ...\n",
      "Selecting previously unselected package libxcb1-dev:amd64.\n",
      "Preparing to unpack .../48-libxcb1-dev_1.14-2_amd64.deb ...\n",
      "Unpacking libxcb1-dev:amd64 (1.14-2) ...\n",
      "Selecting previously unselected package libx11-dev:amd64.\n",
      "Preparing to unpack .../49-libx11-dev_2%3a1.6.9-2ubuntu1.6_amd64.deb ...\n",
      "Unpacking libx11-dev:amd64 (2:1.6.9-2ubuntu1.6) ...\n",
      "Selecting previously unselected package libglx-dev:amd64.\n",
      "Preparing to unpack .../50-libglx-dev_1.3.2-1~ubuntu0.20.04.2_amd64.deb ...\n",
      "Unpacking libglx-dev:amd64 (1.3.2-1~ubuntu0.20.04.2) ...\n",
      "Selecting previously unselected package libgl-dev:amd64.\n",
      "Preparing to unpack .../51-libgl-dev_1.3.2-1~ubuntu0.20.04.2_amd64.deb ...\n",
      "Unpacking libgl-dev:amd64 (1.3.2-1~ubuntu0.20.04.2) ...\n",
      "Selecting previously unselected package libegl-dev:amd64.\n",
      "Preparing to unpack .../52-libegl-dev_1.3.2-1~ubuntu0.20.04.2_amd64.deb ...\n",
      "Unpacking libegl-dev:amd64 (1.3.2-1~ubuntu0.20.04.2) ...\n",
      "Selecting previously unselected package libgles1:amd64.\n",
      "Preparing to unpack .../53-libgles1_1.3.2-1~ubuntu0.20.04.2_amd64.deb ...\n",
      "Unpacking libgles1:amd64 (1.3.2-1~ubuntu0.20.04.2) ...\n",
      "Selecting previously unselected package libgles2:amd64.\n",
      "Preparing to unpack .../54-libgles2_1.3.2-1~ubuntu0.20.04.2_amd64.deb ...\n",
      "Unpacking libgles2:amd64 (1.3.2-1~ubuntu0.20.04.2) ...\n",
      "Selecting previously unselected package libgles-dev:amd64.\n",
      "Preparing to unpack .../55-libgles-dev_1.3.2-1~ubuntu0.20.04.2_amd64.deb ...\n",
      "Unpacking libgles-dev:amd64 (1.3.2-1~ubuntu0.20.04.2) ...\n",
      "Selecting previously unselected package libopengl0:amd64.\n",
      "Preparing to unpack .../56-libopengl0_1.3.2-1~ubuntu0.20.04.2_amd64.deb ...\n",
      "Unpacking libopengl0:amd64 (1.3.2-1~ubuntu0.20.04.2) ...\n",
      "Selecting previously unselected package libopengl-dev:amd64.\n",
      "Preparing to unpack .../57-libopengl-dev_1.3.2-1~ubuntu0.20.04.2_amd64.deb ...\n",
      "Unpacking libopengl-dev:amd64 (1.3.2-1~ubuntu0.20.04.2) ...\n",
      "Selecting previously unselected package libxcb-randr0:amd64.\n",
      "Preparing to unpack .../58-libxcb-randr0_1.14-2_amd64.deb ...\n",
      "Unpacking libxcb-randr0:amd64 (1.14-2) ...\n",
      "Selecting previously unselected package mesa-vulkan-drivers:amd64.\n",
      "Preparing to unpack .../59-mesa-vulkan-drivers_21.2.6-0ubuntu0.1~20.04.2_amd64.deb ...\n",
      "Unpacking mesa-vulkan-drivers:amd64 (21.2.6-0ubuntu0.1~20.04.2) ...\n",
      "Selecting previously unselected package libglvnd-dev:amd64.\n",
      "Preparing to unpack .../60-libglvnd-dev_1.3.2-1~ubuntu0.20.04.2_amd64.deb ...\n",
      "Unpacking libglvnd-dev:amd64 (1.3.2-1~ubuntu0.20.04.2) ...\n",
      "Selecting previously unselected package libgl1-mesa-dev:amd64.\n",
      "Preparing to unpack .../61-libgl1-mesa-dev_21.2.6-0ubuntu0.1~20.04.2_amd64.deb ...\n",
      "Unpacking libgl1-mesa-dev:amd64 (21.2.6-0ubuntu0.1~20.04.2) ...\n",
      "Setting up libxcb-dri3-0:amd64 (1.14-2) ...\n",
      "Setting up libwayland-server0:amd64 (1.18.0-1ubuntu0.1) ...\n",
      "Setting up libx11-xcb1:amd64 (2:1.6.9-2ubuntu1.6) ...\n",
      "Setting up libpciaccess0:amd64 (0.16-0ubuntu1) ...\n",
      "Setting up libxcb-xfixes0:amd64 (1.14-2) ...\n",
      "Setting up xdg-user-dirs (0.17-2ubuntu1) ...\n",
      "Setting up libglib2.0-0:amd64 (2.64.6-1~ubuntu20.04.6) ...\n",
      "No schema files found: doing nothing.\n",
      "Setting up libglvnd0:amd64 (1.3.2-1~ubuntu0.20.04.2) ...\n",
      "Setting up libxcb-glx0:amd64 (1.14-2) ...\n",
      "Setting up libsensors-config (1:3.6.0-2ubuntu1.1) ...\n",
      "Setting up libxcb-shm0:amd64 (1.14-2) ...\n",
      "Setting up libpthread-stubs0-dev:amd64 (0.4-1) ...\n",
      "Setting up libopengl0:amd64 (1.3.2-1~ubuntu0.20.04.2) ...\n",
      "Setting up libxxf86vm1:amd64 (1:1.1.4-1build1) ...\n",
      "Setting up tzdata (2023d-0ubuntu0.20.04) ...\n",
      "\n",
      "Current default time zone: 'Etc/UTC'\n",
      "Local time is now:      Mon Feb 26 08:10:44 UTC 2024.\n",
      "Universal Time is now:  Mon Feb 26 08:10:44 UTC 2024.\n",
      "Run 'dpkg-reconfigure tzdata' if you wish to change it.\n",
      "\n",
      "Setting up libxcb-present0:amd64 (1.14-2) ...\n",
      "Setting up xtrans-dev (1.4.0-1) ...\n",
      "Setting up libglib2.0-data (2.64.6-1~ubuntu20.04.6) ...\n",
      "Setting up libgles2:amd64 (1.3.2-1~ubuntu0.20.04.2) ...\n",
      "Setting up libxfixes3:amd64 (1:5.0.3-2) ...\n",
      "Setting up libxcb-sync1:amd64 (1.14-2) ...\n",
      "Setting up libllvm12:amd64 (1:12.0.0-3ubuntu1~20.04.5) ...\n",
      "Setting up libgles1:amd64 (1.3.2-1~ubuntu0.20.04.2) ...\n",
      "Setting up libsensors5:amd64 (1:3.6.0-2ubuntu1.1) ...\n",
      "Setting up libglapi-mesa:amd64 (21.2.6-0ubuntu0.1~20.04.2) ...\n",
      "Setting up libvulkan1:amd64 (1.2.131.2-1) ...\n",
      "Setting up libxcb-dri2-0:amd64 (1.14-2) ...\n",
      "Setting up libxshmfence1:amd64 (1.3-1) ...\n",
      "Setting up libxcb-randr0:amd64 (1.14-2) ...\n",
      "Setting up xorg-sgml-doctools (1:1.11-1) ...\n",
      "Setting up libopengl-dev:amd64 (1.3.2-1~ubuntu0.20.04.2) ...\n",
      "Setting up libdrm-common (2.4.107-8ubuntu1~20.04.2) ...\n",
      "Setting up libelf1:amd64 (0.176-1.1ubuntu0.1) ...\n",
      "Setting up libwayland-client0:amd64 (1.18.0-1ubuntu0.1) ...\n",
      "Setting up x11proto-dev (2019.2-1ubuntu1) ...\n",
      "Setting up libxau-dev:amd64 (1:1.0.9-0ubuntu1) ...\n",
      "Setting up libicu66:amd64 (66.1-2ubuntu2.1) ...\n",
      "Setting up libxdmcp-dev:amd64 (1:1.1.3-0ubuntu1) ...\n",
      "Setting up x11proto-core-dev (2019.2-1ubuntu1) ...\n",
      "Setting up libdrm2:amd64 (2.4.107-8ubuntu1~20.04.2) ...\n",
      "Setting up libxml2:amd64 (2.9.10+dfsg-5ubuntu0.20.04.6) ...\n",
      "Setting up libdrm-amdgpu1:amd64 (2.4.107-8ubuntu1~20.04.2) ...\n",
      "Setting up mesa-vulkan-drivers:amd64 (21.2.6-0ubuntu0.1~20.04.2) ...\n",
      "Setting up libdrm-nouveau2:amd64 (2.4.107-8ubuntu1~20.04.2) ...\n",
      "Setting up libxcb1-dev:amd64 (1.14-2) ...\n",
      "Setting up libgbm1:amd64 (21.2.6-0ubuntu0.1~20.04.2) ...\n",
      "Setting up libdrm-radeon1:amd64 (2.4.107-8ubuntu1~20.04.2) ...\n",
      "Setting up libdrm-intel1:amd64 (2.4.107-8ubuntu1~20.04.2) ...\n",
      "Setting up libgl1-mesa-dri:amd64 (21.2.6-0ubuntu0.1~20.04.2) ...\n",
      "Setting up libx11-dev:amd64 (2:1.6.9-2ubuntu1.6) ...\n",
      "Setting up libegl-mesa0:amd64 (21.2.6-0ubuntu0.1~20.04.2) ...\n",
      "Setting up shared-mime-info (1.15-1) ...\n",
      "Setting up libegl1:amd64 (1.3.2-1~ubuntu0.20.04.2) ...\n",
      "Setting up libglx-mesa0:amd64 (21.2.6-0ubuntu0.1~20.04.2) ...\n",
      "Setting up libglx0:amd64 (1.3.2-1~ubuntu0.20.04.2) ...\n",
      "Setting up libgl1:amd64 (1.3.2-1~ubuntu0.20.04.2) ...\n",
      "Setting up libglx-dev:amd64 (1.3.2-1~ubuntu0.20.04.2) ...\n",
      "Setting up libgl-dev:amd64 (1.3.2-1~ubuntu0.20.04.2) ...\n",
      "Setting up libegl-dev:amd64 (1.3.2-1~ubuntu0.20.04.2) ...\n",
      "Setting up libgles-dev:amd64 (1.3.2-1~ubuntu0.20.04.2) ...\n",
      "Setting up libglvnd-dev:amd64 (1.3.2-1~ubuntu0.20.04.2) ...\n",
      "Setting up libgl1-mesa-dev:amd64 (21.2.6-0ubuntu0.1~20.04.2) ...\n",
      "Processing triggers for libc-bin (2.31-0ubuntu9.7) ...\n"
     ]
    }
   ],
   "source": [
    "if not is_ait_launch:\n",
    "    !apt-get update && \\\n",
    "     apt-get -qq -y install libgl1-mesa-dev libglib2.0-0\n"
   ]
  },
  {
   "cell_type": "code",
   "execution_count": 7,
   "metadata": {},
   "outputs": [],
   "source": [
    "# import if you need modules cell\n",
    "\n",
    "import os\n",
    "import pandas as pd\n",
    "import numpy as np\n",
    "import matplotlib.pyplot as plt\n",
    "import cv2\n",
    "from glob import glob\n",
    "import seaborn as sns\n",
    "import itertools\n",
    "from sklearn import preprocessing\n",
    "from os import path\n",
    "import scipy"
   ]
  },
  {
   "cell_type": "markdown",
   "metadata": {
    "deletable": false,
    "editable": false
   },
   "source": [
    "#### #4-2 [uneditable]"
   ]
  },
  {
   "cell_type": "code",
   "execution_count": 8,
   "metadata": {
    "deletable": false,
    "editable": false
   },
   "outputs": [],
   "source": [
    "# must use modules\n",
    "from os import path\n",
    "import shutil  # do not remove\n",
    "from ait_sdk.common.files.ait_input import AITInput  # do not remove\n",
    "from ait_sdk.common.files.ait_output import AITOutput  # do not remove\n",
    "from ait_sdk.common.files.ait_manifest import AITManifest  # do not remove\n",
    "from ait_sdk.develop.ait_path_helper import AITPathHelper  # do not remove\n",
    "from ait_sdk.utils.logging import get_logger, log, get_log_path  # do not remove\n",
    "from ait_sdk.develop.annotation import measures, resources, downloads, ait_main  # do not remove\n",
    "# must use modules"
   ]
  },
  {
   "cell_type": "markdown",
   "metadata": {
    "deletable": false,
    "editable": false
   },
   "source": [
    "### #5 Manifest Generation"
   ]
  },
  {
   "cell_type": "markdown",
   "metadata": {
    "deletable": false,
    "editable": false
   },
   "source": [
    "[required]"
   ]
  },
  {
   "cell_type": "code",
   "execution_count": 9,
   "metadata": {},
   "outputs": [],
   "source": [
    "if not is_ait_launch:\n",
    "## sample ##\n",
    "    from ait_sdk.common.files.ait_manifest_generator import AITManifestGenerator\n",
    "    \n",
    "    manifest_genenerator = AITManifestGenerator(current_dir)\n",
    "    manifest_genenerator.set_ait_name('eval_dataset_image_3features_kld')\n",
    "    ait_description = (\n",
    "        '2つの画像データ群を入力し、それらの明度、コントラスト、露光の分布についてKLD(KLダイバージェンス、KL情報量)を算出する。\\n'\n",
    "        'KLDが0に近いほど、2つの画像群は同じ特徴を再現していると評価できる。'\n",
    "    )\n",
    "    manifest_genenerator.set_ait_description(ait_description)\n",
    "    manifest_genenerator.set_ait_source_repository('https://github.com/aistairc/Qunomon_AIT_eval_dataset_image_3features_kld')\n",
    "    manifest_genenerator.set_ait_version('0.3')\n",
    "    manifest_genenerator.add_ait_keywords('KLD')\n",
    "    manifest_genenerator.add_ait_keywords('image')\n",
    "    manifest_genenerator.add_ait_keywords('brightness')\n",
    "    manifest_genenerator.add_ait_keywords('contrast')\n",
    "    manifest_genenerator.add_ait_keywords('exposure')\n",
    "    manifest_genenerator.add_ait_licenses('Apache License Version 2.0')\n",
    "    manifest_genenerator.set_ait_quality('https://ait-hub.pj.aist.go.jp/ait-hub/api/0.0.1/qualityDimensions/機械学習品質マネジメントガイドライン第三版/B-1データセットの被覆性')\n",
    "    \n",
    "    inventory_requirement_data = manifest_genenerator.format_ait_inventory_requirement(format_=['*'])\n",
    "    \n",
    "    dataset_a_description = (\n",
    "        '画像データ群AのZIPファイル\\n'\n",
    "        '・ディレクトリ唯一をZIP圧縮の対象とする\\n'\n",
    "        '・ディレクトリの直下にデータセットAのjpgファイルを全て格納する\\n'\n",
    "        '・ディレクトリの名称がxxxである場合、ZIPのファイル名はxxx.zipとする'\n",
    "    )\n",
    "    manifest_genenerator.add_ait_inventories(name='datasetA', \n",
    "                                             type_='dataset', \n",
    "                                             description=dataset_a_description, \n",
    "                                             requirement=manifest_genenerator.format_ait_inventory_requirement(format_=['zip']))\n",
    "\n",
    "    dataset_b_description = (\n",
    "        '画像データ群BのZIPファイル\\n'\n",
    "        '・ディレクトリ唯一をZIP圧縮の対象とする\\n'\n",
    "        '・ディレクトリの直下にデータセットBのjpgファイルを全て格納する\\n'\n",
    "        '・ディレクトリの名称がxxxである場合、ZIPのファイル名はxxx.zipとする'\n",
    "    )\n",
    "    manifest_genenerator.add_ait_inventories(name='datasetB', \n",
    "                                             type_='dataset', \n",
    "                                             description=dataset_b_description, \n",
    "                                             requirement=manifest_genenerator.format_ait_inventory_requirement(format_=['zip']))\n",
    "    \n",
    "    manifest_genenerator.add_ait_measures(name='KLD_of_brightness', \n",
    "                                          type_='float', \n",
    "                                          description='明度分布のKullback-Leibler divergenceの値', \n",
    "                                          structure='single')\n",
    "    \n",
    "    manifest_genenerator.add_ait_measures(name='KLD_of_contrast', \n",
    "                                        type_='float', \n",
    "                                        description='コントラスト分布のKullback-Leibler divergenceの値', \n",
    "                                        structure='single')\n",
    "\n",
    "    manifest_genenerator.add_ait_measures(name='KLD_of_exposure', \n",
    "                                        type_='float', \n",
    "                                        description='露光分布のKullback-Leibler divergenceの値', \n",
    "                                        structure='single')\n",
    "    \n",
    "    manifest_genenerator.add_ait_resources(name='histogram_of_brightness_for_datasetA', \n",
    "                                           type_='picture', \n",
    "                                           description='datasetAの明度視点のヒストグラム')\n",
    "    \n",
    "    manifest_genenerator.add_ait_resources(name='histogram_of_brightness_for_datasetB', \n",
    "                                           type_='picture', \n",
    "                                           description='datasetBの明度視点のヒストグラム')\n",
    "    \n",
    "    manifest_genenerator.add_ait_resources(name='histogram_of_brightness_for_datasetA_and_datasetB', \n",
    "                                           type_='picture', \n",
    "                                           description='datasetA,Bの明度視点のヒストグラムをまとめて表示')\n",
    "    \n",
    "    manifest_genenerator.add_ait_resources(name='histogram_of_contrast_for_datasetA',\n",
    "                                           type_='picture',\n",
    "                                           description='datasetAのコントラストのヒストグラム')\n",
    "    \n",
    "    manifest_genenerator.add_ait_resources(name='histogram_of_contrast_for_datasetB',\n",
    "                                           type_='picture',\n",
    "                                           description='datasetBのコントラストのヒストグラム')\n",
    "    \n",
    "    manifest_genenerator.add_ait_resources(name='histogram_of_contrast_for_datasetA_and_datasetB',\n",
    "                                           type_='picture',\n",
    "                                           description='datasetA,Bのコントラストのヒストグラムをまとめて表示')\n",
    "    \n",
    "    manifest_genenerator.add_ait_resources(name='histogram_of_exposure_for_datasetA',\n",
    "                                           type_='picture',\n",
    "                                           description='datasetAの露光のヒストグラム')\n",
    "    \n",
    "    manifest_genenerator.add_ait_resources(name='histogram_of_exposure_for_datasetB',\n",
    "                                           type_='picture',\n",
    "                                           description='datasetBの露光のヒストグラム')\n",
    "    \n",
    "    manifest_genenerator.add_ait_resources(name='histogram_of_exposure_for_datasetA_and_datasetB',\n",
    "                                           type_='picture',\n",
    "                                           description='datasetA,Bの露光のヒストグラムをまとめて表示')\n",
    "    \n",
    "    manifest_genenerator.add_ait_downloads(name='Log', \n",
    "                                           description='AIT実行ログ')\n",
    "    manifest_path = manifest_genenerator.write()"
   ]
  },
  {
   "cell_type": "markdown",
   "metadata": {
    "deletable": false,
    "editable": false
   },
   "source": [
    "### #6 Prepare for the Input"
   ]
  },
  {
   "cell_type": "markdown",
   "metadata": {
    "deletable": false,
    "editable": false
   },
   "source": [
    "[required]"
   ]
  },
  {
   "cell_type": "code",
   "execution_count": 10,
   "metadata": {},
   "outputs": [],
   "source": [
    "if not is_ait_launch:\n",
    "    from ait_sdk.common.files.ait_input_generator import AITInputGenerator\n",
    "    input_generator = AITInputGenerator(manifest_path)\n",
    "    input_generator.add_ait_inventories(name='datasetA',\n",
    "                                        value='datasetA/aug_train.zip')\n",
    "    input_generator.add_ait_inventories(name='datasetB',\n",
    "                                        value='datasetB/aug_test.zip')\n",
    "    input_generator.write()"
   ]
  },
  {
   "cell_type": "markdown",
   "metadata": {
    "deletable": false,
    "editable": false
   },
   "source": [
    "### #7 Initialization"
   ]
  },
  {
   "cell_type": "markdown",
   "metadata": {
    "deletable": false,
    "editable": false
   },
   "source": [
    "[uneditable]"
   ]
  },
  {
   "cell_type": "code",
   "execution_count": 11,
   "metadata": {
    "deletable": false,
    "editable": false
   },
   "outputs": [],
   "source": [
    "logger = get_logger()\n",
    "\n",
    "ait_manifest = AITManifest()\n",
    "ait_input = AITInput(ait_manifest)\n",
    "ait_output = AITOutput(ait_manifest)\n",
    "\n",
    "if is_ait_launch:\n",
    "    # launch from AIT\n",
    "    current_dir = path.dirname(path.abspath(__file__))\n",
    "    path_helper = AITPathHelper(argv=sys.argv, ait_input=ait_input, ait_manifest=ait_manifest, entry_point_dir=current_dir)\n",
    "else:\n",
    "    # launch from jupyter notebook\n",
    "    # ait.input.json make in input_dir\n",
    "    input_dir = '/usr/local/qai/mnt/ip/job_args/1/1'\n",
    "    current_dir = %pwd\n",
    "    path_helper = AITPathHelper(argv=['', input_dir], ait_input=ait_input, ait_manifest=ait_manifest, entry_point_dir=current_dir)\n",
    "\n",
    "ait_input.read_json(path_helper.get_input_file_path())\n",
    "ait_manifest.read_json(path_helper.get_manifest_file_path())\n",
    "\n",
    "### do not edit cell"
   ]
  },
  {
   "cell_type": "markdown",
   "metadata": {
    "deletable": false,
    "editable": false
   },
   "source": [
    "### #8 Function definitions"
   ]
  },
  {
   "cell_type": "markdown",
   "metadata": {
    "deletable": false,
    "editable": false
   },
   "source": [
    "[required]"
   ]
  },
  {
   "cell_type": "code",
   "execution_count": 12,
   "metadata": {},
   "outputs": [],
   "source": [
    "# データセット名\n",
    "datasetA_name = 'datasetA'\n",
    "datasetB_name = 'datasetB'"
   ]
  },
  {
   "cell_type": "code",
   "execution_count": 13,
   "metadata": {},
   "outputs": [],
   "source": [
    "# 出力ファイル名\n",
    "hist_brightness_datasetAB_name = 'hist_brightness_datasetA_and_B.png'\n",
    "hist_brightness_datasetA_name  = 'hist_brightness_datasetA.png'\n",
    "hist_brightness_datasetB_name  = 'hist_brightness_datasetB.png'\n",
    "\n",
    "hist_contrast_datasetAB_name = 'hist_contrast_datasetA_and_B.png'\n",
    "hist_contrast_datasetA_name  = 'hist_contrast_datasetA.png'\n",
    "hist_contrast_datasetB_name  = 'hist_contrast_datasetB.png'\n",
    "\n",
    "hist_exposure_datasetAB_name = 'hist_exposure_datasetA_and_B.png'\n",
    "hist_exposure_datasetA_name  = 'hist_exposure_datasetA.png'\n",
    "hist_exposure_datasetB_name  = 'hist_exposure_datasetB.png'"
   ]
  },
  {
   "cell_type": "code",
   "execution_count": 14,
   "metadata": {},
   "outputs": [],
   "source": [
    "@log(logger)\n",
    "def calc_KLD(data1, data2, bins=50, range_=(0.0, 1.0), epsilon=.00001):\n",
    "    hist1, _ = np.histogram(data1, range=range_, bins=bins)\n",
    "    hist2, _ = np.histogram(data2, range=range_, bins=bins)\n",
    "\n",
    "    hist1 = (hist1+epsilon) / np.sum(hist1)\n",
    "    hist2 = (hist2+epsilon) / np.sum(hist2)\n",
    "    kld_value = np.sum([ai * np.log(ai / bi) for ai, bi in zip(hist1, hist2)])\n",
    "\n",
    "    return kld_value"
   ]
  },
  {
   "cell_type": "code",
   "execution_count": 15,
   "metadata": {},
   "outputs": [],
   "source": [
    "@log(logger)\n",
    "@measures(ait_output, 'KLD_of_brightness')\n",
    "def submit_KLD_of_brightness(kld):\n",
    "    return kld\n",
    "\n",
    "@log(logger)\n",
    "@measures(ait_output, 'KLD_of_contrast')\n",
    "def submit_KLD_of_contrast(kld):\n",
    "    return kld\n",
    "\n",
    "@log(logger)\n",
    "@measures(ait_output, 'KLD_of_exposure')\n",
    "def submit_KLD_of_exposure(kld):\n",
    "    return kld"
   ]
  },
  {
   "cell_type": "code",
   "execution_count": 16,
   "metadata": {},
   "outputs": [],
   "source": [
    "@log(logger)\n",
    "@resources(ait_output, path_helper, 'histogram_of_brightness_for_datasetA_and_datasetB', hist_brightness_datasetAB_name)\n",
    "def save_brightness_histgram_datasetAB(df_marge, file_path: str=None) -> str:\n",
    "    line_plot = sns.histplot(data=df_marge, x=\"brightness\", hue=\"inventory\")\n",
    "    figure = line_plot.get_figure()\n",
    "    plt.show()\n",
    "    figure.savefig(file_path)"
   ]
  },
  {
   "cell_type": "code",
   "execution_count": 17,
   "metadata": {},
   "outputs": [],
   "source": [
    "@log(logger)\n",
    "@resources(ait_output, path_helper, 'histogram_of_brightness_for_datasetA', hist_brightness_datasetA_name)\n",
    "def save_brightness_histgram_datasetA(s, file_path: str=None) -> str:\n",
    "    fig = plt.figure()\n",
    "    plt.hist(s, bins=100)\n",
    "    plt.xlabel(\"brightness\")\n",
    "    plt.ylabel(\"count\")\n",
    "    plt.show()\n",
    "    fig.savefig(file_path)"
   ]
  },
  {
   "cell_type": "code",
   "execution_count": 18,
   "metadata": {},
   "outputs": [],
   "source": [
    "@log(logger)\n",
    "@resources(ait_output, path_helper, 'histogram_of_brightness_for_datasetB', hist_brightness_datasetB_name)\n",
    "def save_brightness_histgram_datasetB(s, file_path: str=None) -> str:\n",
    "    fig = plt.figure()\n",
    "    plt.hist(s, bins=100)\n",
    "    plt.xlabel(\"brightness\")\n",
    "    plt.ylabel(\"count\")\n",
    "    plt.show()\n",
    "    fig.savefig(file_path)"
   ]
  },
  {
   "cell_type": "code",
   "execution_count": 19,
   "metadata": {},
   "outputs": [],
   "source": [
    "@log(logger)\n",
    "@resources(ait_output, path_helper, 'histogram_of_contrast_for_datasetA_and_datasetB', hist_contrast_datasetAB_name)\n",
    "def save_contrast_histgram_datasetAB(df_marge, file_path: str=None) -> str:\n",
    "    line_plot = sns.histplot(data=df_marge, x=\"contrast\", hue=\"inventory\")\n",
    "    figure = line_plot.get_figure()\n",
    "    plt.show()\n",
    "    figure.savefig(file_path)"
   ]
  },
  {
   "cell_type": "code",
   "execution_count": 20,
   "metadata": {},
   "outputs": [],
   "source": [
    "@log(logger)\n",
    "@resources(ait_output, path_helper, 'histogram_of_contrast_for_datasetA', hist_contrast_datasetA_name)\n",
    "def save_contrast_histgram_datasetA(contrast_list, file_path: str=None) -> str:\n",
    "    fig = plt.figure()\n",
    "    plt.hist(contrast_list, bins=100)\n",
    "    plt.xlabel(\"Michelson contrast\")\n",
    "    plt.ylabel(\"count\")\n",
    "    plt.show()\n",
    "    fig.savefig(file_path)"
   ]
  },
  {
   "cell_type": "code",
   "execution_count": 21,
   "metadata": {},
   "outputs": [],
   "source": [
    "@log(logger)\n",
    "@resources(ait_output, path_helper, 'histogram_of_contrast_for_datasetB', hist_contrast_datasetB_name)\n",
    "def save_contrast_histgram_datasetB(contrast_list, file_path: str=None) -> str:\n",
    "    fig = plt.figure()\n",
    "    plt.hist(contrast_list, bins=100)\n",
    "    plt.xlabel(\"Michelson contrast\")\n",
    "    plt.ylabel(\"count\")\n",
    "    plt.show()\n",
    "    fig.savefig(file_path)"
   ]
  },
  {
   "cell_type": "code",
   "execution_count": 22,
   "metadata": {},
   "outputs": [],
   "source": [
    "@log(logger)\n",
    "@resources(ait_output, path_helper, 'histogram_of_exposure_for_datasetA_and_datasetB', hist_exposure_datasetAB_name)\n",
    "def save_exposure_histgram_datasetAB(df_marge, file_path: str=None) -> str:\n",
    "    line_plot = sns.histplot(data=df_marge, x=\"exposure\", hue=\"inventory\")\n",
    "    figure = line_plot.get_figure()\n",
    "    plt.show()\n",
    "    figure.savefig(file_path)"
   ]
  },
  {
   "cell_type": "code",
   "execution_count": 23,
   "metadata": {},
   "outputs": [],
   "source": [
    "@log(logger)\n",
    "@resources(ait_output, path_helper, 'histogram_of_exposure_for_datasetA', hist_exposure_datasetA_name)\n",
    "def save_exposure_histgram_datasetA(exposure_list, file_path: str=None) -> str:\n",
    "    fig = plt.figure()\n",
    "    plt.hist(exposure_list, bins=100)\n",
    "    plt.xlabel(\"exposure\")\n",
    "    plt.ylabel(\"count\")\n",
    "    plt.show()\n",
    "    fig.savefig(file_path)"
   ]
  },
  {
   "cell_type": "code",
   "execution_count": 24,
   "metadata": {},
   "outputs": [],
   "source": [
    "@log(logger)\n",
    "@resources(ait_output, path_helper, 'histogram_of_exposure_for_datasetB', hist_exposure_datasetB_name)\n",
    "def save_exposure_histgram_datasetB(exposure_list, file_path: str=None) -> str:\n",
    "    fig = plt.figure()\n",
    "    plt.hist(exposure_list, bins=100)\n",
    "    plt.xlabel(\"exposure\")\n",
    "    plt.ylabel(\"count\")\n",
    "    plt.show()\n",
    "    fig.savefig(file_path)"
   ]
  },
  {
   "cell_type": "code",
   "execution_count": 25,
   "metadata": {},
   "outputs": [],
   "source": [
    "@log(logger)\n",
    "@downloads(ait_output, path_helper, 'Log', 'ait.log')\n",
    "def move_log(file_path: str=None) -> str:\n",
    "    shutil.move(get_log_path(), file_path)"
   ]
  },
  {
   "cell_type": "code",
   "execution_count": 26,
   "metadata": {},
   "outputs": [],
   "source": [
    "#WORKPATH = './work/' # zip解凍先\n",
    "WORKPATH = './' # zip解凍先"
   ]
  },
  {
   "cell_type": "code",
   "execution_count": 27,
   "metadata": {},
   "outputs": [],
   "source": [
    "def bright(image):\n",
    "    #  BGR 2 HLS\n",
    "    fImg = image.astype(np.float32)\n",
    "    fImg = fImg / 255.0\n",
    "    #HLS: channel0-Hue、channel1-lightness、channel2-saturation\n",
    "\n",
    "    hlsImg = cv2.cvtColor(fImg, cv2.COLOR_BGR2HLS)\n",
    "    brightness = hlsImg[:, :, 1]\n",
    "    return brightness\n",
    "\n",
    "def contrast(brightness: np.ndarray):\n",
    "    # Michelson contrast\n",
    "    l_max = brightness.max()\n",
    "    l_min = brightness.min()\n",
    "    contrast_val = (l_max-l_min) / (l_max+l_min)\n",
    "    return contrast_val\n",
    "\n",
    "def exposure(image):\n",
    "    gray = cv2.cvtColor(image, cv2.COLOR_BGR2GRAY)\n",
    "    exposure_val = cv2.mean(gray)[0]\n",
    "    return exposure_val"
   ]
  },
  {
   "cell_type": "markdown",
   "metadata": {
    "deletable": false,
    "editable": false
   },
   "source": [
    "### #9 Main Algorithms"
   ]
  },
  {
   "cell_type": "markdown",
   "metadata": {
    "deletable": false,
    "editable": false
   },
   "source": [
    "[required]"
   ]
  },
  {
   "cell_type": "code",
   "execution_count": 28,
   "metadata": {},
   "outputs": [],
   "source": [
    "#########################################\n",
    "# area:functions\n",
    "# should edit\n",
    "#########################################\n",
    "@log(logger)\n",
    "@ait_main(ait_output, path_helper, is_ait_launch)\n",
    "def main() -> None:\n",
    "    # from AIT parameter\n",
    "    datasetA_path = ait_input.get_inventory_path(datasetA_name)\n",
    "    datasetB_path = ait_input.get_inventory_path(datasetB_name)\n",
    "    \n",
    "    # 拡張子無しのインベントリファイル名\n",
    "    datasetA_name_without_zip = os.path.splitext(os.path.basename(datasetA_path))[0]\n",
    "    datasetB_name_without_zip = os.path.splitext(os.path.basename(datasetB_path))[0]\n",
    "    \n",
    "    # 入力インベントリごとに関連ディレクトリをまとめる\n",
    "    # inventory_name_list=[datasetA_name, datasetB_name]\n",
    "    inventory_name_list=[datasetA_name_without_zip, datasetB_name_without_zip]\n",
    "    inventory_list=[datasetA_path, datasetB_path]\n",
    "    png_list=[hist_brightness_datasetA_name, hist_brightness_datasetB_name]\n",
    "    \n",
    "    ait_dataset_list = []\n",
    "    for name, data_path, png_path in zip(inventory_name_list, inventory_list, png_list):\n",
    "        ait_dataset_list+=[{'name':name,\n",
    "                            'path':data_path, \n",
    "                            'unzippath':WORKPATH + name,\n",
    "                            'resultpath':WORKPATH + name + '.csv'\n",
    "                           }]\n",
    "    \n",
    "    ## DataLoad\n",
    "    for inv in ait_dataset_list:\n",
    "        shutil.unpack_archive(inv['path'], WORKPATH)\n",
    "    \n",
    "    ## 明度計算\n",
    "    drop_s_length = len(WORKPATH)\n",
    "\n",
    "    for inv in ait_dataset_list:\n",
    "        print(inv['name'])\n",
    "        path       = inv['path']\n",
    "        unzippath  = inv['unzippath']\n",
    "        resultpath = inv['resultpath']\n",
    "\n",
    "        brval=[]\n",
    "        cgval=[]\n",
    "        eval=[]\n",
    "        img_shortpath=[]\n",
    "        contrast_list = []\n",
    "        exposure_list = []\n",
    "\n",
    "        # jpgファイルを取得\n",
    "        imgpath = glob(unzippath + '/*.jpeg')\n",
    "        imgpath += glob(unzippath + '/*.jpg')\n",
    "        \n",
    "        for idx in range(len(imgpath)):\n",
    "            img = cv2.imread(imgpath[idx])\n",
    "            brightness = bright(img)\n",
    "            mean_brightness = np.mean(brightness)\n",
    "            brval.append(mean_brightness)\n",
    "            contrast_value = contrast(brightness)\n",
    "            contrast_list.append(contrast_value)\n",
    "            exposure_value = exposure(img)\n",
    "            exposure_list.append(exposure_value)\n",
    "            img_shortpath.append(imgpath[idx][drop_s_length:]) # WORKPATHを除外\n",
    "\n",
    "        dataframe=pd.DataFrame({'brval': brval, 'contrast': contrast_list, 'exposure': exposure_list, 'imgpath': img_shortpath})\n",
    "        dataframe.to_csv(resultpath,index=False,sep=',')\n",
    "    \n",
    "    ## ヒストグラム出力\n",
    "    # histgram_datasetA\n",
    "    inv = ait_dataset_list[0]\n",
    "    df_result = pd.read_csv(inv['resultpath'])\n",
    "    save_brightness_histgram_datasetA(df_result['brval'])\n",
    "    save_contrast_histgram_datasetA(df_result['contrast'])\n",
    "    save_exposure_histgram_datasetA(df_result['exposure'])\n",
    "\n",
    "    # histgram_datasetB\n",
    "    inv = ait_dataset_list[1]\n",
    "    df_result = pd.read_csv(inv['resultpath'])\n",
    "    save_brightness_histgram_datasetB(df_result['brval'])\n",
    "    save_contrast_histgram_datasetB(df_result['contrast'])\n",
    "    save_exposure_histgram_datasetB(df_result['exposure'])\n",
    "\n",
    "    ## ヒストグラム(まとめ)出力\n",
    "    df_marge = pd.DataFrame(columns=list(pd.read_csv(inv['resultpath']).columns)+['name'])\n",
    "    for inv in ait_dataset_list:    \n",
    "        df_tmp = pd.read_csv(inv['resultpath'])\n",
    "        df_tmp['name'] = inv['name']\n",
    "        df_marge = pd.concat([df_marge, df_tmp])\n",
    "        \n",
    "    df_marge.reset_index(inplace=True, drop=True)\n",
    "    df_marge = df_marge.rename(columns={'brval': 'brightness','name': 'inventory'})\n",
    "    save_brightness_histgram_datasetAB(df_marge)\n",
    "    save_contrast_histgram_datasetAB(df_marge)\n",
    "    save_exposure_histgram_datasetAB(df_marge)\n",
    "\n",
    "    ## KLD計算\n",
    "    data_a = pd.read_csv(ait_dataset_list[0]['resultpath'])\n",
    "    data_b = pd.read_csv(ait_dataset_list[1]['resultpath'])\n",
    "\n",
    "    key = 'brval'\n",
    "    kld = calc_KLD(data_a[key], data_b[key])\n",
    "    submit_KLD_of_brightness(kld)\n",
    "    print(f'KLD_of_brightness={kld}')\n",
    "\n",
    "    key = 'contrast'\n",
    "    kld = calc_KLD(data_a[key], data_b[key])\n",
    "    submit_KLD_of_contrast(kld)\n",
    "    print(f'KLD_of_{key}={kld}')\n",
    "\n",
    "    key = 'exposure'\n",
    "    x_min = min(data_a[key].min(), data_b[key].min())\n",
    "    x_max = min(data_a[key].max(), data_b[key].max())\n",
    "    kld = calc_KLD(data_a[key], data_b[key], range_=(x_min, x_max))\n",
    "    submit_KLD_of_exposure(kld)\n",
    "    print(f'KLD_of_{key}={kld}')\n",
    "    \n",
    "    move_log()\n",
    "    "
   ]
  },
  {
   "cell_type": "markdown",
   "metadata": {
    "deletable": false,
    "editable": false
   },
   "source": [
    "### #10 Entry point"
   ]
  },
  {
   "cell_type": "markdown",
   "metadata": {
    "deletable": false,
    "editable": false
   },
   "source": [
    "[uneditable]"
   ]
  },
  {
   "cell_type": "code",
   "execution_count": 29,
   "metadata": {
    "deletable": false,
    "editable": false
   },
   "outputs": [
    {
     "name": "stdout",
     "output_type": "stream",
     "text": [
      "aug_train\n",
      "aug_test\n"
     ]
    },
    {
     "data": {
      "image/png": "[encoded data removed]",
      "text/plain": [
       "<Figure size 640x480 with 1 Axes>"
      ]
     },
     "metadata": {},
     "output_type": "display_data"
    },
    {
     "data": {
      "image/png": "[encoded data removed]",
      "text/plain": [
       "<Figure size 640x480 with 1 Axes>"
      ]
     },
     "metadata": {},
     "output_type": "display_data"
    },
    {
     "data": {
      "image/png": "[encoded data removed]",
      "text/plain": [
       "<Figure size 640x480 with 1 Axes>"
      ]
     },
     "metadata": {},
     "output_type": "display_data"
    },
    {
     "data": {
      "image/png": "[encoded data removed]",
      "text/plain": [
       "<Figure size 640x480 with 1 Axes>"
      ]
     },
     "metadata": {},
     "output_type": "display_data"
    },
    {
     "data": {
      "image/png": "[encoded data removed]",
      "text/plain": [
       "<Figure size 640x480 with 1 Axes>"
      ]
     },
     "metadata": {},
     "output_type": "display_data"
    },
    {
     "data": {
      "image/png": "[encoded data removed]",
      "text/plain": [
       "<Figure size 640x480 with 1 Axes>"
      ]
     },
     "metadata": {},
     "output_type": "display_data"
    },
    {
     "data": {
      "image/png": "[encoded data removed]",
      "text/plain": [
       "<Figure size 640x480 with 1 Axes>"
      ]
     },
     "metadata": {},
     "output_type": "display_data"
    },
    {
     "data": {
      "image/png": "[encoded data removed]",
      "text/plain": [
       "<Figure size 640x480 with 1 Axes>"
      ]
     },
     "metadata": {},
     "output_type": "display_data"
    },
    {
     "data": {
      "image/png": "[encoded data removed]",
      "text/plain": [
       "<Figure size 640x480 with 1 Axes>"
      ]
     },
     "metadata": {},
     "output_type": "display_data"
    },
    {
     "name": "stdout",
     "output_type": "stream",
     "text": [
      "KLD_of_brightness=0.04759208671297619\n",
      "KLD_of_contrast=0.03851087755711195\n",
      "KLD_of_exposure=0.042376917934659225\n"
     ]
    }
   ],
   "source": [
    "if __name__ == '__main__':\n",
    "    main()"
   ]
  },
  {
   "cell_type": "markdown",
   "metadata": {
    "deletable": false,
    "editable": false
   },
   "source": [
    "### #11 License"
   ]
  },
  {
   "cell_type": "markdown",
   "metadata": {
    "deletable": false,
    "editable": false
   },
   "source": [
    "[required]"
   ]
  },
  {
   "cell_type": "code",
   "execution_count": 30,
   "metadata": {},
   "outputs": [],
   "source": [
    "## sample ##\n",
    "ait_owner='AIST'\n",
    "ait_creation_year='2024'"
   ]
  },
  {
   "cell_type": "markdown",
   "metadata": {
    "deletable": false,
    "editable": false
   },
   "source": [
    "### #12 Deployment"
   ]
  },
  {
   "cell_type": "markdown",
   "metadata": {
    "deletable": false,
    "editable": false
   },
   "source": [
    "[uneditable] "
   ]
  },
  {
   "cell_type": "code",
   "execution_count": 31,
   "metadata": {
    "deletable": false,
    "editable": false
   },
   "outputs": [],
   "source": [
    "if not is_ait_launch:\n",
    "    from ait_sdk.deploy import prepare_deploy\n",
    "    from ait_sdk.license.license_generator import LicenseGenerator\n",
    "    \n",
    "    current_dir = %pwd\n",
    "    prepare_deploy(ait_sdk_name, current_dir, requirements_path)\n",
    "    \n",
    "    # output License.txt\n",
    "    license_generator = LicenseGenerator()\n",
    "    license_generator.write('../top_dir/LICENSE.txt', ait_creation_year, ait_owner)\n"
   ]
  },
  {
   "cell_type": "code",
   "execution_count": null,
   "metadata": {},
   "outputs": [],
   "source": []
  }
 ],
 "metadata": {
  "celltoolbar": "Edit Metadata",
  "kernelspec": {
   "display_name": "Python 3 (ipykernel)",
   "language": "python",
   "name": "python3"
  },
  "language_info": {
   "codemirror_mode": {
    "name": "ipython",
    "version": 3
   },
   "file_extension": ".py",
   "mimetype": "text/x-python",
   "name": "python",
   "nbconvert_exporter": "python",
   "pygments_lexer": "ipython3",
   "version": "3.8.10"
  },
  "vscode": {
   "interpreter": {
    "hash": "cc00c6a56d87bd8bd7773e730c60ddfdb8804da6b7537df09499efbcf81630f7"
   }
  }
 },
 "nbformat": 4,
 "nbformat_minor": 4
}
